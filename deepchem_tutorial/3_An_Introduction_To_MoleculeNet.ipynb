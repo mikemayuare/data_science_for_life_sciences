{
 "cells": [
  {
   "cell_type": "code",
   "execution_count": 1,
   "metadata": {},
   "outputs": [
    {
     "name": "stderr",
     "output_type": "stream",
     "text": [
      "No normalization for AvgIpc. Feature removed!\n",
      "Skipped loading some Jax models, missing a dependency. No module named 'jax'\n"
     ]
    }
   ],
   "source": [
    "import deepchem as dc\n"
   ]
  },
  {
   "cell_type": "code",
   "execution_count": 4,
   "metadata": {},
   "outputs": [],
   "source": [
    "methods = [method for method in dir(dc.molnet) if \"load_\" in method]\n"
   ]
  },
  {
   "cell_type": "code",
   "execution_count": 7,
   "metadata": {},
   "outputs": [
    {
     "data": {
      "text/plain": [
       "['load_Platinum_Adsorption',\n",
       " 'load_bace_classification',\n",
       " 'load_bace_regression',\n",
       " 'load_bandgap',\n",
       " 'load_bbbc001',\n",
       " 'load_bbbc002',\n",
       " 'load_bbbp',\n",
       " 'load_cell_counting',\n",
       " 'load_chembl',\n",
       " 'load_chembl25',\n",
       " 'load_clearance',\n",
       " 'load_clintox',\n",
       " 'load_delaney',\n",
       " 'load_factors',\n",
       " 'load_freesolv',\n",
       " 'load_function',\n",
       " 'load_hiv',\n",
       " 'load_hopv',\n",
       " 'load_hppb',\n",
       " 'load_kaggle',\n",
       " 'load_kinase',\n",
       " 'load_lipo',\n",
       " 'load_mp_formation_energy',\n",
       " 'load_mp_metallicity',\n",
       " 'load_muv',\n",
       " 'load_nci',\n",
       " 'load_pcba',\n",
       " 'load_pdbbind',\n",
       " 'load_perovskite',\n",
       " 'load_ppb',\n",
       " 'load_qm7',\n",
       " 'load_qm8',\n",
       " 'load_qm9',\n",
       " 'load_sampl',\n",
       " 'load_sider',\n",
       " 'load_sweet',\n",
       " 'load_thermosol',\n",
       " 'load_tox21',\n",
       " 'load_toxcast',\n",
       " 'load_uspto',\n",
       " 'load_uv',\n",
       " 'load_zinc15']"
      ]
     },
     "execution_count": 7,
     "metadata": {},
     "output_type": "execute_result"
    }
   ],
   "source": [
    "methods\n"
   ]
  },
  {
   "cell_type": "code",
   "execution_count": 9,
   "metadata": {},
   "outputs": [],
   "source": [
    "tasks, datasets, transformers = dc.molnet.load_delaney(\n",
    "    featurizer=\"ECFP\", splitter=\"scaffold\"\n",
    ")"
   ]
  },
  {
   "cell_type": "code",
   "execution_count": 10,
   "metadata": {},
   "outputs": [],
   "source": [
    "train, valid, test = datasets\n"
   ]
  },
  {
   "cell_type": "code",
   "execution_count": 11,
   "metadata": {},
   "outputs": [
    {
     "data": {
      "text/plain": [
       "<DiskDataset X.shape: (902, 1024), y.shape: (902, 1), w.shape: (902, 1), ids: ['CC(C)=CCCC(C)=CC(=O)' 'CCCC=C' 'CCCCCCCCCCCCCC' ...\n",
       " 'Nc2cccc3nc1ccccc1cc23 ' 'C1CCCCCC1' 'OC1CCCCCC1'], task_names: ['measured log solubility in mols per litre']>"
      ]
     },
     "execution_count": 11,
     "metadata": {},
     "output_type": "execute_result"
    }
   ],
   "source": [
    "train\n"
   ]
  },
  {
   "cell_type": "code",
   "execution_count": 12,
   "metadata": {},
   "outputs": [
    {
     "data": {
      "text/plain": [
       "array([0., 0., 0., ..., 0., 0., 0.])"
      ]
     },
     "execution_count": 12,
     "metadata": {},
     "output_type": "execute_result"
    }
   ],
   "source": [
    "train.X[0]\n"
   ]
  }
 ],
 "metadata": {
  "kernelspec": {
   "display_name": "deepchem",
   "language": "python",
   "name": "python3"
  },
  "language_info": {
   "codemirror_mode": {
    "name": "ipython",
    "version": 3
   },
   "file_extension": ".py",
   "mimetype": "text/x-python",
   "name": "python",
   "nbconvert_exporter": "python",
   "pygments_lexer": "ipython3",
   "version": "3.7.16"
  },
  "orig_nbformat": 4
 },
 "nbformat": 4,
 "nbformat_minor": 2
}
