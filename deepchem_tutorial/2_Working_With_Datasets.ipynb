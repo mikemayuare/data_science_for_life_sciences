{
 "cells": [
  {
   "cell_type": "code",
   "execution_count": 1,
   "metadata": {},
   "outputs": [
    {
     "name": "stderr",
     "output_type": "stream",
     "text": [
      "No normalization for AvgIpc. Feature removed!\n",
      "Skipped loading some Jax models, missing a dependency. No module named 'jax'\n"
     ]
    }
   ],
   "source": [
    "import deepchem as dc\n"
   ]
  },
  {
   "cell_type": "code",
   "execution_count": 2,
   "metadata": {},
   "outputs": [],
   "source": [
    "tasks, datasets, transformers = dc.molnet.load_delaney(featurizer=\"GraphConv\")\n",
    "train_dataset, valid_Dataset, test_dataset = datasets\n"
   ]
  },
  {
   "cell_type": "code",
   "execution_count": 3,
   "metadata": {},
   "outputs": [
    {
     "name": "stdout",
     "output_type": "stream",
     "text": [
      "<DiskDataset X.shape: (113,), y.shape: (113, 1), w.shape: (113, 1), ids: ['c1cc2ccc3cccc4ccc(c1)c2c34' 'Cc1cc(=O)[nH]c(=S)[nH]1'\n",
      " 'Oc1ccc(cc1)C2(OC(=O)c3ccccc23)c4ccc(O)cc4 ' ...\n",
      " 'c1ccc2c(c1)ccc3c2ccc4c5ccccc5ccc43' 'Cc1occc1C(=O)Nc2ccccc2'\n",
      " 'OCC3OC(OCC2OC(OC(C#N)c1ccccc1)C(O)C(O)C2O)C(O)C(O)C3O '], task_names: ['measured log solubility in mols per litre']>\n"
     ]
    }
   ],
   "source": [
    "print(test_dataset)\n"
   ]
  },
  {
   "cell_type": "code",
   "execution_count": 4,
   "metadata": {},
   "outputs": [
    {
     "data": {
      "text/plain": [
       "array([<deepchem.feat.mol_graphs.ConvMol object at 0x7f8fccaa2e10>,\n",
       "       <deepchem.feat.mol_graphs.ConvMol object at 0x7f8fccaa9650>,\n",
       "       <deepchem.feat.mol_graphs.ConvMol object at 0x7f8fccaa9b50>,\n",
       "       <deepchem.feat.mol_graphs.ConvMol object at 0x7f8fccaa2390>,\n",
       "       <deepchem.feat.mol_graphs.ConvMol object at 0x7f8fccae6610>],\n",
       "      dtype=object)"
      ]
     },
     "execution_count": 4,
     "metadata": {},
     "output_type": "execute_result"
    }
   ],
   "source": [
    "test_dataset.X[:5]\n"
   ]
  },
  {
   "cell_type": "code",
   "execution_count": 5,
   "metadata": {},
   "outputs": [
    {
     "name": "stdout",
     "output_type": "stream",
     "text": [
      "[-1.60114461] c1cc2ccc3cccc4ccc(c1)c2c34\n",
      "[0.20848251] Cc1cc(=O)[nH]c(=S)[nH]1\n",
      "[-0.01602738] Oc1ccc(cc1)C2(OC(=O)c3ccccc23)c4ccc(O)cc4 \n",
      "[-2.82191713] c1ccc2c(c1)cc3ccc4cccc5ccc2c3c45\n",
      "[-0.52891635] C1=Cc2cccc3cccc1c23\n",
      "[1.10168349] CC1CO1\n",
      "[-0.88987406] CCN2c1ccccc1N(C)C(=S)c3cccnc23 \n",
      "[-0.52649706] CC12CCC3C(CCc4cc(O)ccc34)C2CCC1=O\n",
      "[-0.76358725] Cn2cc(c1ccccc1)c(=O)c(c2)c3cccc(c3)C(F)(F)F\n",
      "[-0.64020358] ClC(Cl)(Cl)C(NC=O)N1C=CN(C=C1)C(NC=O)C(Cl)(Cl)Cl \n",
      "[-0.38569452] COc2c1occc1cc3ccc(=O)oc23 \n",
      "[-0.62568785] CN2C(=C(O)c1ccccc1S2(=O)=O)C(=O)Nc3ccccn3 \n",
      "[-0.39585553] Cc3cc2nc1c(=O)[nH]c(=O)nc1n(CC(O)C(O)C(O)CO)c2cc3C\n",
      "[-2.05306753] c1ccc(cc1)c2ccc(cc2)c3ccccc3\n",
      "[-0.29666474] CC34CC(=O)C1C(CCC2=CC(=O)CCC12C)C3CCC4(=O) \n",
      "[-0.73213651] c1ccc2c(c1)sc3ccccc23\n",
      "[-1.27744393] CC23Cc1cnoc1C=C2CCC4C3CCC5(C)C4CCC5(O)C#C\n",
      "[0.0081655] OC(C(=O)c1ccccc1)c2ccccc2\n",
      "[0.97588054] OCC2OC(Oc1ccccc1CO)C(O)C(O)C2O\n",
      "[-0.10796031] CC3C2CCC1(C)C=CC(=O)C(=C1C2OC3=O)C\n",
      "[0.59847167] O=Cc2ccc1OCOc1c2 \n",
      "[-0.60149498] CC1CCCCC1NC(=O)Nc2ccccc2\n",
      "[-0.34988907] CC(=O)N(S(=O)c1ccc(N)cc1)c2onc(C)c2C \n",
      "[0.34686576] C1N(C(=O)NCC(C)C)C(=O)NC1\n",
      "[0.62750312] CNC(=O)Oc1ccccc1C2OCCO2\n",
      "[0.14848418] CC1=C(CCCO1)C(=O)Nc2ccccc2 \n",
      "[0.02268122] Cn2c(=O)on(c1ccc(Cl)c(Cl)c1)c2=O\n",
      "[-0.85310089] C1Cc2cccc3cccc1c23\n",
      "[-2.72079091] c1ccc2cc3c4cccc5cccc(c3cc2c1)c45\n",
      "[0.42476682] Nc1cc(nc(N)n1=O)N2CCCCC2 \n",
      "[0.01300407] O=c2c(C3CCCc4ccccc43)c(O)c1ccccc1o2 \n",
      "[-2.4851523] CC(C)C(Nc1ccc(cc1Cl)C(F)(F)F)C(=O)OC(C#N)c2cccc(Oc3ccccc3)c2\n",
      "[-2.15516147] Cc1c(F)c(F)c(COC(=O)C2C(C=C(Cl)C(F)(F)F)C2(C)C)c(F)c1F\n",
      "[1.00975056] c2ccc1[nH]nnc1c2\n",
      "[0.82588471] c2ccc1ocnc1c2\n",
      "[-0.90390593] CCOC(=O)c1cncn1C(C)c2ccccc2\n",
      "[-0.91067993] CCN2c1ccccc1N(C)C(=O)c3ccccc23 \n",
      "[-0.82455329] OCC(O)COC(=O)c1ccccc1Nc2ccnc3cc(Cl)ccc23\n",
      "[1.26909819] OCC1OC(OC2C(O)C(O)C(O)OC2CO)C(O)C(O)C1O\n",
      "[-1.14825397] CC34CCc1c(ccc2cc(O)ccc12)C3CCC4=O\n",
      "[-2.1343556] ClC1=C(Cl)C(Cl)(C(=C1Cl)Cl)C2(Cl)C(=C(Cl)C(=C2Cl)Cl)Cl\n",
      "[-1.15744727] ClC1(C(=O)C2(Cl)C3(Cl)C14Cl)C5(Cl)C2(Cl)C3(Cl)C(Cl)(Cl)C45Cl\n",
      "[-0.1045733] Oc1ccc(c(O)c1)c3oc2cc(O)cc(O)c2c(=O)c3O \n",
      "[0.53073162] C1SC(=S)NC1(=O)\n",
      "[-1.22567118] ClC(Cl)C(Cl)(Cl)SN2C(=O)C1CC=CCC1C2=O \n",
      "[-1.66452995] ClC1=C(Cl)C2(Cl)C3C4CC(C=C4)C3C1(Cl)C2(Cl)Cl\n",
      "[0.24525568] CC(=O)Nc1nnc(s1)S(N)(=O)=O \n",
      "[-0.13215318] CC1=C(SCCO1)C(=O)Nc2ccccc2\n",
      "[-0.97067826] CN(C(=O)COc1nc2ccccc2s1)c3ccccc3\n",
      "[-0.23376326] CN(C(=O)NC(C)(C)c1ccccc1)c2ccccc2\n",
      "[1.21297072] Nc1nccs1 \n",
      "[-1.2595412] CN(C=Nc1ccc(C)cc1C)C=Nc2ccc(C)cc2C\n",
      "[0.49686159] OCC(O)C2OC1OC(OC1C2O)C(Cl)(Cl)Cl \n",
      "[0.22396595] Nc3nc(N)c2nc(c1ccccc1)c(N)nc2n3\n",
      "[-0.44182199] CC2Nc1cc(Cl)c(cc1C(=O)N2c3ccccc3C)S(N)(=O)=O \n",
      "[0.47895886] CN1CC(O)N(C1=O)c2nnc(s2)C(C)(C)C\n",
      "[0.08267956] CCC1(C(=O)NC(=O)NC1=O)C2=CCC3CCC2C3\n",
      "[-1.51840498] CCC(C)C(=O)OC2CC(C)C=C3C=CC(C)C(CCC1CC(O)CC(=O)O1)C23 \n",
      "[-0.34795364] CC2Cc1ccccc1N2NC(=O)c3ccc(Cl)c(c3)S(N)(=O)=O \n",
      "[-0.83858516] o1c2ccccc2c3ccccc13\n",
      "[-0.13699176] O=C(Nc1ccccc1)Nc2ccccc2\n",
      "[-2.59498796] c1ccc2c(c1)c3cccc4c3c2cc5ccccc54\n",
      "[0.13106531] COc1ccc(cc1)C(O)(C2CC2)c3cncnc3 \n",
      "[0.09042128] c1cnc2c(c1)ccc3ncccc23\n",
      "[1.18877785] OCC1OC(CO)(OC2OC(COC3OC(CO)C(O)C(O)C3O)C(O)C(O)C2O)C(O)C1O\n",
      "[-0.82697258] CCOC(=O)c1ccccc1S(=O)(=O)NN(C=O)c2nc(Cl)cc(OC)n2\n",
      "[-1.16857599] CC34CCC1C(=CCc2cc(O)ccc12)C3CCC4=O\n",
      "[0.37589721] CN(C)C(=O)Oc1cc(C)nn1c2ccccc2\n",
      "[-0.24344041] OC(Cn1cncn1)(c2ccc(F)cc2)c3ccccc3F\n",
      "[-2.00952036] Cc1c2ccccc2c(C)c3ccc4ccccc4c13\n",
      "[-0.59181783] Cc3nnc4CN=C(c1ccccc1Cl)c2cc(Cl)ccc2n34\n",
      "[-0.15634606] Cc3ccnc4N(C1CC1)c2ncccc2C(=O)Nc34 \n",
      "[-2.87272217] c1cc2cccc3c4cccc5cccc(c(c1)c23)c54\n",
      "[-0.34069577] COc1cc(cc(OC)c1O)C6C2C(COC2=O)C(OC4OC3COC(C)OC3C(O)C4O)c7cc5OCOc5cc67\n",
      "[0.27622256] O=c1[nH]cnc2nc[nH]c12 \n",
      "[-2.15467761] C1C(O)CCC2(C)CC3CCC4(C)C5(C)CC6OCC(C)CC6OC5CC4C3C=C21\n",
      "[-0.02812382] Cc1ccccc1n3c(C)nc2ccccc2c3=O\n",
      "[-2.77401524] CCOc1ccc(cc1)C(C)(C)COCc3cccc(Oc2ccccc2)c3\n",
      "[0.25638441] CCC1(CCC(=O)NC1=O)c2ccccc2 \n",
      "[0.84040043] CC1CC(C)C(=O)C(C1)C(O)CC2CC(=O)NC(=O)C2 \n",
      "[-0.86277804] CC(=O)C3CCC4C2CC=C1CC(O)CCC1(C)C2CCC34C \n",
      "[-1.52082426] Cc1ccc(OP(=O)(Oc2cccc(C)c2)Oc3ccccc3C)cc1\n",
      "[0.29702844] CSc1nnc(c(=O)n1N)C(C)(C)C\n",
      "[0.44363727] Nc1ncnc2n(ccc12)C3OC(CO)C(O)C3O \n",
      "[0.47460415] O=C2NC(=O)C1(CC1)C(=O)N2 \n",
      "[-0.08376743] C1Cc2ccccc2C1\n",
      "[0.68556602] c1ccc2cnccc2c1\n",
      "[0.79201468] OCC1OC(C(O)C1O)n2cnc3c(O)ncnc23\n",
      "[-1.2401869] c2(Cl)c(Cl)c(Cl)c1nccnc1c2(Cl) \n",
      "[0.6129874] C1OC1c2ccccc2 \n",
      "[-0.58214068] CCC(=C(CC)c1ccc(O)cc1)c2ccc(O)cc2 \n",
      "[-1.51598569] c1ccc2c(c1)c3cccc4cccc2c34\n",
      "[-1.93984487] CC(C)C(C(=O)OC(C#N)c1cccc(Oc2ccccc2)c1)c3ccc(OC(F)F)cc3\n",
      "[-0.30295489] CCCC1COC(Cn2cncn2)(O1)c3ccc(Cl)cc3Cl\n",
      "[-0.24827899] O=C2CN(N=Cc1ccc(o1)N(=O)=O)C(=O)N2 \n",
      "[1.06442646] NC(=O)c1cnccn1\n",
      "[-1.48259952] OC4=C(C1CCC(CC1)c2ccc(Cl)cc2)C(=O)c3ccccc3C4=O\n",
      "[0.0275198] O=C(Cn1ccnc1N(=O)=O)NCc2ccccc2\n",
      "[0.33718861] CCC1(C(=O)NC(=O)NC1=O)C2=CCCCC2 \n",
      "[-0.91600236] COC(=O)C1=C(C)NC(=C(C1c2ccccc2N(=O)=O)C(=O)OC)C \n",
      "[0.58637523] O=C2NC(=O)C1(CCC1)C(=O)N2\n",
      "[-0.62084928] CCCOP(=S)(OCCC)SCC(=O)N1CCCCC1C\n",
      "[-0.30827732] N(c1ccccc1)c2ccccc2\n",
      "[-1.95145746] ClC(Cl)=C(c1ccc(Cl)cc1)c2ccc(Cl)cc2\n",
      "[-0.83568202] O=c2[nH]c1CCCc1c(=O)n2C3CCCCC3\n",
      "[0.10977558] CCC1(C(=O)NCNC1=O)c2ccccc2\n",
      "[1.90488697] O=C1CCCN1\n",
      "[-0.75149081] COc5cc4OCC3Oc2c1CC(Oc1ccc2C(=O)C3c4cc5OC)C(C)=C \n",
      "[-1.65630437] ClC4=C(Cl)C5(Cl)C3C1CC(C2OC12)C3C4(Cl)C5(Cl)Cl\n",
      "[0.74362893] c1ccsc1\n",
      "[-2.42079925] c1ccc2c(c1)ccc3c2ccc4c5ccccc5ccc43\n",
      "[-0.20957039] Cc1occc1C(=O)Nc2ccccc2\n",
      "[1.01458914] OCC3OC(OCC2OC(OC(C#N)c1ccccc1)C(O)C(O)C2O)C(O)C(O)C3O \n"
     ]
    }
   ],
   "source": [
    "for X, y, w, id in test_dataset.itersamples():\n",
    "    print(y, id)"
   ]
  },
  {
   "cell_type": "code",
   "execution_count": 6,
   "metadata": {},
   "outputs": [
    {
     "name": "stdout",
     "output_type": "stream",
     "text": [
      "(50, 1)\n",
      "(50, 1)\n",
      "(13, 1)\n"
     ]
    }
   ],
   "source": [
    "for X, y, w, id in test_dataset.iterbatches(batch_size=50):\n",
    "    print(y.shape)\n"
   ]
  }
 ],
 "metadata": {
  "kernelspec": {
   "display_name": "deepchem",
   "language": "python",
   "name": "python3"
  },
  "language_info": {
   "codemirror_mode": {
    "name": "ipython",
    "version": 3
   },
   "file_extension": ".py",
   "mimetype": "text/x-python",
   "name": "python",
   "nbconvert_exporter": "python",
   "pygments_lexer": "ipython3",
   "version": "3.7.16"
  },
  "orig_nbformat": 4
 },
 "nbformat": 4,
 "nbformat_minor": 2
}
